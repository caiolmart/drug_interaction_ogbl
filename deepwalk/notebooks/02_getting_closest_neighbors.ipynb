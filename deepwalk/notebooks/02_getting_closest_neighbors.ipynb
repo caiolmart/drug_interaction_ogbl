{
 "cells": [
  {
   "cell_type": "code",
   "execution_count": 1,
   "id": "thousand-tuition",
   "metadata": {},
   "outputs": [],
   "source": [
    "import os"
   ]
  },
  {
   "cell_type": "code",
   "execution_count": 2,
   "id": "commercial-timer",
   "metadata": {},
   "outputs": [],
   "source": [
    "os.chdir('../..')"
   ]
  },
  {
   "cell_type": "code",
   "execution_count": 3,
   "id": "junior-pearl",
   "metadata": {},
   "outputs": [
    {
     "name": "stderr",
     "output_type": "stream",
     "text": [
      "Using backend: pytorch\n"
     ]
    }
   ],
   "source": [
    "import numpy as np\n",
    "import matplotlib.pyplot as plt\n",
    "import faiss\n",
    "import torch\n",
    "from ogb.linkproppred import DglLinkPropPredDataset"
   ]
  },
  {
   "cell_type": "code",
   "execution_count": 4,
   "id": "accepting-belfast",
   "metadata": {},
   "outputs": [],
   "source": [
    "dataset = DglLinkPropPredDataset('ogbl-ddi', root='data/dataset_dgl')\n",
    "graph = dataset[0]"
   ]
  },
  {
   "cell_type": "code",
   "execution_count": 5,
   "id": "tamil-startup",
   "metadata": {},
   "outputs": [],
   "source": [
    "output_emb_file = 'deepwalk/models/01_deep_embedding.npy'"
   ]
  },
  {
   "cell_type": "code",
   "execution_count": 6,
   "id": "formed-general",
   "metadata": {},
   "outputs": [
    {
     "data": {
      "text/plain": [
       "(4267, 16)"
      ]
     },
     "execution_count": 6,
     "metadata": {},
     "output_type": "execute_result"
    }
   ],
   "source": [
    "embeddings = np.load(output_emb_file)\n",
    "embeddings.shape"
   ]
  },
  {
   "cell_type": "markdown",
   "id": "banner-printing",
   "metadata": {},
   "source": [
    "## L2 Distance"
   ]
  },
  {
   "cell_type": "code",
   "execution_count": 7,
   "id": "recorded-clarity",
   "metadata": {},
   "outputs": [],
   "source": [
    "index = faiss.IndexFlatL2(embeddings.shape[1])"
   ]
  },
  {
   "cell_type": "code",
   "execution_count": 8,
   "id": "injured-qatar",
   "metadata": {},
   "outputs": [],
   "source": [
    "index.train(embeddings)\n",
    "index.add(embeddings)"
   ]
  },
  {
   "cell_type": "code",
   "execution_count": 9,
   "id": "three-happening",
   "metadata": {},
   "outputs": [
    {
     "data": {
      "text/plain": [
       "<faiss.swigfaiss.IndexFlatL2; proxy of <Swig Object of type 'faiss::IndexFlatL2 *' at 0x7f8a7b58a210> >"
      ]
     },
     "execution_count": 9,
     "metadata": {},
     "output_type": "execute_result"
    }
   ],
   "source": [
    "index"
   ]
  },
  {
   "cell_type": "code",
   "execution_count": 10,
   "id": "technical-german",
   "metadata": {},
   "outputs": [
    {
     "data": {
      "text/plain": [
       "4267"
      ]
     },
     "execution_count": 10,
     "metadata": {},
     "output_type": "execute_result"
    }
   ],
   "source": [
    "index.ntotal"
   ]
  },
  {
   "cell_type": "markdown",
   "id": "educated-watershed",
   "metadata": {},
   "source": [
    "### Check if the closest embedding is a neighbor"
   ]
  },
  {
   "cell_type": "code",
   "execution_count": 11,
   "id": "academic-plymouth",
   "metadata": {},
   "outputs": [],
   "source": [
    "distances, indices = index.search(embeddings, 2)"
   ]
  },
  {
   "cell_type": "code",
   "execution_count": 12,
   "id": "whole-growth",
   "metadata": {},
   "outputs": [
    {
     "data": {
      "text/plain": [
       "tensor(2265)"
      ]
     },
     "execution_count": 12,
     "metadata": {},
     "output_type": "execute_result"
    }
   ],
   "source": [
    "graph.has_edges_between(indices[:, 0], indices[:, 1]).sum()"
   ]
  },
  {
   "cell_type": "code",
   "execution_count": 13,
   "id": "figured-helmet",
   "metadata": {},
   "outputs": [
    {
     "data": {
      "text/plain": [
       "tensor(False)"
      ]
     },
     "execution_count": 13,
     "metadata": {},
     "output_type": "execute_result"
    }
   ],
   "source": [
    "graph.has_edges_between(indices[:, 0], indices[:, 1]).all()"
   ]
  },
  {
   "cell_type": "markdown",
   "id": "incoming-calgary",
   "metadata": {},
   "source": [
    "### Check if there is a neighbor in the n closest embeddings"
   ]
  },
  {
   "cell_type": "code",
   "execution_count": 14,
   "id": "funny-modem",
   "metadata": {},
   "outputs": [],
   "source": [
    "max_k = 200\n",
    "distances, indices = index.search(embeddings, max_k + 1)"
   ]
  },
  {
   "cell_type": "code",
   "execution_count": 15,
   "id": "future-bridal",
   "metadata": {},
   "outputs": [],
   "source": [
    "has_neighbor = torch.zeros((embeddings.shape[0], max_k))\n",
    "for j in range(max_k):\n",
    "    if j == 0:\n",
    "        has_neighbor[:, j] = graph.has_edges_between(indices[:, 0], indices[:, j + 1])\n",
    "    else:\n",
    "        has_neighbor[:, j] = torch.max(\n",
    "            has_neighbor[:, j - 1],\n",
    "            graph.has_edges_between(indices[:, 0], indices[:, j + 1]))"
   ]
  },
  {
   "cell_type": "code",
   "execution_count": 16,
   "id": "peripheral-wales",
   "metadata": {},
   "outputs": [
    {
     "data": {
      "text/plain": [
       "tensor([[1., 1., 1.,  ..., 1., 1., 1.],\n",
       "        [0., 1., 1.,  ..., 1., 1., 1.],\n",
       "        [0., 0., 0.,  ..., 1., 1., 1.],\n",
       "        ...,\n",
       "        [0., 0., 1.,  ..., 1., 1., 1.],\n",
       "        [0., 1., 1.,  ..., 1., 1., 1.],\n",
       "        [0., 0., 0.,  ..., 1., 1., 1.]])"
      ]
     },
     "execution_count": 16,
     "metadata": {},
     "output_type": "execute_result"
    }
   ],
   "source": [
    "has_neighbor"
   ]
  },
  {
   "cell_type": "code",
   "execution_count": 17,
   "id": "stainless-edition",
   "metadata": {},
   "outputs": [
    {
     "data": {
      "text/plain": [
       "[<matplotlib.lines.Line2D at 0x7f8a78c5e4c0>]"
      ]
     },
     "execution_count": 17,
     "metadata": {},
     "output_type": "execute_result"
    },
    {
     "data": {
      "image/png": "[encoded data removed]",
      "text/plain": [
       "<Figure size 432x288 with 1 Axes>"
      ]
     },
     "metadata": {
      "needs_background": "light"
     },
     "output_type": "display_data"
    }
   ],
   "source": [
    "percentages = has_neighbor.sum(dim=0) / embeddings.shape[0]\n",
    "plt.plot(list(range(1, max_k + 1)), percentages)"
   ]
  },
  {
   "cell_type": "markdown",
   "id": "continuous-washington",
   "metadata": {},
   "source": [
    "## Cossine Distance"
   ]
  },
  {
   "cell_type": "code",
   "execution_count": 18,
   "id": "common-annex",
   "metadata": {},
   "outputs": [],
   "source": [
    "emb_norm = embeddings / np.linalg.norm(embeddings, axis=1)[:, None]"
   ]
  },
  {
   "cell_type": "code",
   "execution_count": 19,
   "id": "daily-ambassador",
   "metadata": {},
   "outputs": [],
   "source": [
    "index_cos = faiss.IndexFlatIP(emb_norm.shape[1])"
   ]
  },
  {
   "cell_type": "code",
   "execution_count": 20,
   "id": "homeless-assignment",
   "metadata": {},
   "outputs": [],
   "source": [
    "index_cos.train(emb_norm)\n",
    "index_cos.add(emb_norm)"
   ]
  },
  {
   "cell_type": "code",
   "execution_count": 21,
   "id": "hawaiian-english",
   "metadata": {},
   "outputs": [
    {
     "data": {
      "text/plain": [
       "<faiss.swigfaiss.IndexFlatIP; proxy of <Swig Object of type 'faiss::IndexFlatIP *' at 0x7f8a78bfcf00> >"
      ]
     },
     "execution_count": 21,
     "metadata": {},
     "output_type": "execute_result"
    }
   ],
   "source": [
    "index_cos"
   ]
  },
  {
   "cell_type": "code",
   "execution_count": 22,
   "id": "green-leader",
   "metadata": {},
   "outputs": [
    {
     "data": {
      "text/plain": [
       "4267"
      ]
     },
     "execution_count": 22,
     "metadata": {},
     "output_type": "execute_result"
    }
   ],
   "source": [
    "index_cos.ntotal"
   ]
  },
  {
   "cell_type": "markdown",
   "id": "registered-charity",
   "metadata": {},
   "source": [
    "### Check if the closest embedding is a neighbor"
   ]
  },
  {
   "cell_type": "code",
   "execution_count": 23,
   "id": "exposed-fraud",
   "metadata": {},
   "outputs": [],
   "source": [
    "distances, indices = index_cos.search(emb_norm, 2)"
   ]
  },
  {
   "cell_type": "code",
   "execution_count": 24,
   "id": "marine-batman",
   "metadata": {},
   "outputs": [
    {
     "data": {
      "text/plain": [
       "tensor(2305)"
      ]
     },
     "execution_count": 24,
     "metadata": {},
     "output_type": "execute_result"
    }
   ],
   "source": [
    "graph.has_edges_between(indices[:, 0], indices[:, 1]).sum()"
   ]
  },
  {
   "cell_type": "code",
   "execution_count": 25,
   "id": "beneficial-knock",
   "metadata": {},
   "outputs": [
    {
     "data": {
      "text/plain": [
       "tensor(False)"
      ]
     },
     "execution_count": 25,
     "metadata": {},
     "output_type": "execute_result"
    }
   ],
   "source": [
    "graph.has_edges_between(indices[:, 0], indices[:, 1]).all()"
   ]
  },
  {
   "cell_type": "markdown",
   "id": "missing-corps",
   "metadata": {},
   "source": [
    "### Check if there is a neighbor in the n closest embeddings"
   ]
  },
  {
   "cell_type": "code",
   "execution_count": 26,
   "id": "urban-swimming",
   "metadata": {},
   "outputs": [],
   "source": [
    "max_k = 200\n",
    "distances, indices = index.search(emb_norm, max_k + 1)"
   ]
  },
  {
   "cell_type": "code",
   "execution_count": 27,
   "id": "careful-astronomy",
   "metadata": {},
   "outputs": [],
   "source": [
    "has_neighbor = torch.zeros((emb_norm.shape[0], max_k))\n",
    "for j in range(max_k):\n",
    "    if j == 0:\n",
    "        has_neighbor[:, j] = graph.has_edges_between(indices[:, 0], indices[:, j + 1])\n",
    "    else:\n",
    "        has_neighbor[:, j] = torch.max(\n",
    "            has_neighbor[:, j - 1],\n",
    "            graph.has_edges_between(indices[:, 0], indices[:, j + 1]))"
   ]
  },
  {
   "cell_type": "code",
   "execution_count": 28,
   "id": "given-temperature",
   "metadata": {},
   "outputs": [
    {
     "data": {
      "text/plain": [
       "tensor([[1., 1., 1.,  ..., 1., 1., 1.],\n",
       "        [1., 1., 1.,  ..., 1., 1., 1.],\n",
       "        [0., 0., 0.,  ..., 1., 1., 1.],\n",
       "        ...,\n",
       "        [0., 0., 0.,  ..., 1., 1., 1.],\n",
       "        [1., 1., 1.,  ..., 1., 1., 1.],\n",
       "        [1., 1., 1.,  ..., 1., 1., 1.]])"
      ]
     },
     "execution_count": 28,
     "metadata": {},
     "output_type": "execute_result"
    }
   ],
   "source": [
    "has_neighbor"
   ]
  },
  {
   "cell_type": "code",
   "execution_count": 29,
   "id": "flush-thumb",
   "metadata": {},
   "outputs": [
    {
     "data": {
      "text/plain": [
       "[<matplotlib.lines.Line2D at 0x7f8a78b47850>]"
      ]
     },
     "execution_count": 29,
     "metadata": {},
     "output_type": "execute_result"
    },
    {
     "data": {
      "image/png": "[encoded data removed]",
      "text/plain": [
       "<Figure size 432x288 with 1 Axes>"
      ]
     },
     "metadata": {
      "needs_background": "light"
     },
     "output_type": "display_data"
    }
   ],
   "source": [
    "percentages = has_neighbor.sum(dim=0) / embeddings.shape[0]\n",
    "plt.plot(list(range(1, max_k + 1)), percentages)"
   ]
  }
 ],
 "metadata": {
  "kernelspec": {
   "display_name": "Python 3",
   "language": "python",
   "name": "python3"
  },
  "language_info": {
   "codemirror_mode": {
    "name": "ipython",
    "version": 3
   },
   "file_extension": ".py",
   "mimetype": "text/x-python",
   "name": "python",
   "nbconvert_exporter": "python",
   "pygments_lexer": "ipython3",
   "version": "3.8.5"
  }
 },
 "nbformat": 4,
 "nbformat_minor": 5
}
