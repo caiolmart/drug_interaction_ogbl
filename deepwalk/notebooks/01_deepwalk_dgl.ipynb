{
 "cells": [
  {
   "cell_type": "code",
   "execution_count": 1,
   "metadata": {},
   "outputs": [],
   "source": [
    "import os"
   ]
  },
  {
   "cell_type": "code",
   "execution_count": 2,
   "metadata": {},
   "outputs": [],
   "source": [
    "os.chdir('../..')"
   ]
  },
  {
   "cell_type": "code",
   "execution_count": 3,
   "metadata": {},
   "outputs": [
    {
     "name": "stderr",
     "output_type": "stream",
     "text": [
      "WARNING:root:The OGB package is out of date. Your version is 1.3.0, while the latest version is 1.3.1.\n",
      "Using backend: pytorch\n"
     ]
    }
   ],
   "source": [
    "from ogb.linkproppred import DglLinkPropPredDataset\n",
    "import dgl\n",
    "import torch"
   ]
  },
  {
   "cell_type": "code",
   "execution_count": 4,
   "metadata": {},
   "outputs": [],
   "source": [
    "dataset = DglLinkPropPredDataset('ogbl-ddi', root='data/dataset_dgl')"
   ]
  },
  {
   "cell_type": "code",
   "execution_count": 5,
   "metadata": {},
   "outputs": [],
   "source": [
    "graph = dataset[0]"
   ]
  },
  {
   "cell_type": "code",
   "execution_count": 6,
   "metadata": {},
   "outputs": [
    {
     "data": {
      "text/plain": [
       "4267"
      ]
     },
     "execution_count": 6,
     "metadata": {},
     "output_type": "execute_result"
    }
   ],
   "source": [
    "graph.number_of_nodes()"
   ]
  },
  {
   "cell_type": "code",
   "execution_count": 7,
   "metadata": {},
   "outputs": [
    {
     "data": {
      "text/plain": [
       "18207289"
      ]
     },
     "execution_count": 7,
     "metadata": {},
     "output_type": "execute_result"
    }
   ],
   "source": [
    "4267 ** 2"
   ]
  },
  {
   "cell_type": "code",
   "execution_count": 8,
   "metadata": {},
   "outputs": [
    {
     "data": {
      "text/plain": [
       "2135822"
      ]
     },
     "execution_count": 8,
     "metadata": {},
     "output_type": "execute_result"
    }
   ],
   "source": [
    "graph.number_of_edges()"
   ]
  },
  {
   "cell_type": "code",
   "execution_count": 9,
   "metadata": {},
   "outputs": [
    {
     "data": {
      "text/plain": [
       "(tensor([4039, 2424, 4039,  ...,  338,  835, 3554]),\n",
       " tensor([2424, 4039,  225,  ...,  708, 3554,  835]))"
      ]
     },
     "execution_count": 9,
     "metadata": {},
     "output_type": "execute_result"
    }
   ],
   "source": [
    "graph.edges()"
   ]
  },
  {
   "cell_type": "code",
   "execution_count": 10,
   "metadata": {},
   "outputs": [
    {
     "data": {
      "text/plain": [
       "tensor(True)"
      ]
     },
     "execution_count": 10,
     "metadata": {},
     "output_type": "execute_result"
    }
   ],
   "source": [
    "graph.has_edges_between(graph.edges()[1], graph.edges()[0]).all()"
   ]
  },
  {
   "cell_type": "code",
   "execution_count": 11,
   "metadata": {},
   "outputs": [
    {
     "data": {
      "text/plain": [
       "{'train': {'edge': tensor([[4039, 2424],\n",
       "          [4039,  225],\n",
       "          [4039, 3901],\n",
       "          ...,\n",
       "          [ 647,  708],\n",
       "          [ 708,  338],\n",
       "          [ 835, 3554]])},\n",
       " 'valid': {'edge': tensor([[ 722,  548],\n",
       "          [ 874, 3436],\n",
       "          [ 838, 1587],\n",
       "          ...,\n",
       "          [3661, 3125],\n",
       "          [3272, 3330],\n",
       "          [1330,  776]]),\n",
       "  'edge_neg': tensor([[   0,   58],\n",
       "          [   0,   84],\n",
       "          [   0,   90],\n",
       "          ...,\n",
       "          [4162, 4180],\n",
       "          [4168, 4260],\n",
       "          [4180, 4221]])},\n",
       " 'test': {'edge': tensor([[2198, 1172],\n",
       "          [1205,  719],\n",
       "          [1818, 2866],\n",
       "          ...,\n",
       "          [ 326, 1109],\n",
       "          [ 911, 1250],\n",
       "          [4127, 2480]]),\n",
       "  'edge_neg': tensor([[   0,    2],\n",
       "          [   0,   16],\n",
       "          [   0,   42],\n",
       "          ...,\n",
       "          [4168, 4259],\n",
       "          [4208, 4245],\n",
       "          [4245, 4259]])}}"
      ]
     },
     "execution_count": 11,
     "metadata": {},
     "output_type": "execute_result"
    }
   ],
   "source": [
    "dataset.get_edge_split()"
   ]
  },
  {
   "cell_type": "code",
   "execution_count": 12,
   "metadata": {},
   "outputs": [
    {
     "data": {
      "text/plain": [
       "tensor([[4039, 2424],\n",
       "        [4039,  225],\n",
       "        [4039, 3901],\n",
       "        ...,\n",
       "        [ 647,  708],\n",
       "        [ 708,  338],\n",
       "        [ 835, 3554]])"
      ]
     },
     "execution_count": 12,
     "metadata": {},
     "output_type": "execute_result"
    }
   ],
   "source": [
    "dataset.get_edge_split()['train']['edge']"
   ]
  },
  {
   "cell_type": "code",
   "execution_count": 13,
   "metadata": {},
   "outputs": [],
   "source": [
    "train_ids = graph.edge_ids(dataset.get_edge_split()['train']['edge'][:, 0], dataset.get_edge_split()['train']['edge'][:, 1])"
   ]
  },
  {
   "cell_type": "code",
   "execution_count": 14,
   "metadata": {},
   "outputs": [
    {
     "data": {
      "text/plain": [
       "tensor([[4039, 2424],\n",
       "        [4039,  225],\n",
       "        [4039, 3901],\n",
       "        ...,\n",
       "        [ 647,  708],\n",
       "        [ 708,  338],\n",
       "        [ 835, 3554]])"
      ]
     },
     "execution_count": 14,
     "metadata": {},
     "output_type": "execute_result"
    }
   ],
   "source": [
    "dataset.get_edge_split()['train']['edge']"
   ]
  },
  {
   "cell_type": "code",
   "execution_count": 15,
   "metadata": {},
   "outputs": [
    {
     "data": {
      "text/plain": [
       "tensor([      0,       2,       4,  ..., 2135816, 2135818, 2135820])"
      ]
     },
     "execution_count": 15,
     "metadata": {},
     "output_type": "execute_result"
    }
   ],
   "source": [
    "train_ids"
   ]
  },
  {
   "cell_type": "code",
   "execution_count": 16,
   "metadata": {},
   "outputs": [
    {
     "data": {
      "text/plain": [
       "2"
      ]
     },
     "execution_count": 16,
     "metadata": {},
     "output_type": "execute_result"
    }
   ],
   "source": [
    "graph.edge_ids(4039, 225)"
   ]
  },
  {
   "cell_type": "code",
   "execution_count": 17,
   "metadata": {},
   "outputs": [
    {
     "data": {
      "text/plain": [
       "True"
      ]
     },
     "execution_count": 17,
     "metadata": {},
     "output_type": "execute_result"
    }
   ],
   "source": [
    "torch.cuda.is_available()"
   ]
  },
  {
   "cell_type": "code",
   "execution_count": 18,
   "metadata": {},
   "outputs": [],
   "source": [
    "device = 0"
   ]
  },
  {
   "cell_type": "code",
   "execution_count": 19,
   "metadata": {},
   "outputs": [],
   "source": [
    "dim = 16\n",
    "walk_length = 80\n",
    "window_size = 2\n",
    "batch_size = 16\n",
    "only_cpu = False\n",
    "only_gpu = True\n",
    "mix = False\n",
    "neg_weight = 1.\n",
    "negative = 1\n",
    "lr = 0.1\n",
    "lap_norm = 0.05\n",
    "fast_neg = False\n",
    "print_loss = True\n",
    "norm = False\n",
    "use_context_weight = False\n",
    "async_update = False\n",
    "num_threads = 16\n",
    "gpus = [0]\n",
    "count_params = False\n",
    "num_walks = 300\n",
    "num_sampler_threads = 0\n",
    "print_interval = 2000\n",
    "save_in_txt = False\n",
    "save_in_pt = False\n",
    "output_emb_file = 'deepwalk/models/01_deep_embedding.npy'"
   ]
  },
  {
   "cell_type": "code",
   "execution_count": 20,
   "metadata": {},
   "outputs": [],
   "source": [
    "from deepwalk.src.deepwalk import DeepwalkTrainer"
   ]
  },
  {
   "cell_type": "code",
   "execution_count": 21,
   "metadata": {
    "scrolled": true
   },
   "outputs": [
    {
     "name": "stdout",
     "output_type": "stream",
     "text": [
      "1280100 seeds in 0.03s\n"
     ]
    }
   ],
   "source": [
    "trainer = DeepwalkTrainer(\n",
    "    graph=graph,\n",
    "    device=device,\n",
    "    dim=dim,\n",
    "    walk_length=walk_length,\n",
    "    window_size=window_size,\n",
    "    batch_size=batch_size,\n",
    "    only_cpu=only_cpu,\n",
    "    only_gpu=only_gpu,\n",
    "    mix=mix,\n",
    "    neg_weight=neg_weight,\n",
    "    negative=negative,\n",
    "    lr=lr,\n",
    "    lap_norm=lap_norm,\n",
    "    fast_neg=fast_neg,\n",
    "    print_loss=print_loss,\n",
    "    norm=norm,\n",
    "    use_context_weight=use_context_weight,\n",
    "    async_update=async_update,\n",
    "    num_threads=num_threads,\n",
    "    gpus=gpus,\n",
    "    count_params=count_params,\n",
    "    num_walks=num_walks,\n",
    "    num_sampler_threads=num_sampler_threads,\n",
    "    print_interval=print_interval,\n",
    "    save_in_txt=save_in_txt,\n",
    "    save_in_pt=save_in_pt,\n",
    "    output_emb_file=output_emb_file,\n",
    ")"
   ]
  },
  {
   "cell_type": "code",
   "execution_count": 22,
   "metadata": {},
   "outputs": [
    {
     "name": "stdout",
     "output_type": "stream",
     "text": [
      "Run in 1 GPU\n",
      "The device is cuda:0\n",
      "num batchs: 80007\n",
      "\n",
      "Batch 2000 training time: 3.42s loss: 1.2674\n",
      "Batch 4000 training time: 3.11s loss: 1.2330\n",
      "Batch 6000 training time: 3.10s loss: 1.2191\n",
      "Batch 8000 training time: 3.11s loss: 1.2143\n",
      "Batch 10000 training time: 3.12s loss: 1.2109\n",
      "Batch 12000 training time: 3.13s loss: 1.2092\n",
      "Batch 14000 training time: 3.21s loss: 1.2077\n",
      "Batch 16000 training time: 3.17s loss: 1.2069\n",
      "Batch 18000 training time: 3.12s loss: 1.2065\n",
      "Batch 20000 training time: 3.12s loss: 1.2065\n",
      "Batch 22000 training time: 3.28s loss: 1.2052\n",
      "Batch 24000 training time: 3.13s loss: 1.2058\n",
      "Batch 26000 training time: 3.46s loss: 1.2048\n",
      "Batch 28000 training time: 3.21s loss: 1.2048\n",
      "Batch 30000 training time: 3.12s loss: 1.2046\n",
      "Batch 32000 training time: 3.13s loss: 1.2048\n",
      "Batch 34000 training time: 3.12s loss: 1.2048\n",
      "Batch 36000 training time: 3.12s loss: 1.2039\n",
      "Batch 38000 training time: 3.12s loss: 1.2040\n",
      "Batch 40000 training time: 3.12s loss: 1.2039\n",
      "Batch 42000 training time: 3.13s loss: 1.2045\n",
      "Batch 44000 training time: 3.15s loss: 1.2042\n",
      "Batch 46000 training time: 3.18s loss: 1.2041\n",
      "Batch 48000 training time: 3.16s loss: 1.2041\n",
      "Batch 50000 training time: 3.12s loss: 1.2032\n",
      "Batch 52000 training time: 3.14s loss: 1.2035\n",
      "Batch 54000 training time: 3.11s loss: 1.2032\n",
      "Batch 56000 training time: 3.11s loss: 1.2028\n",
      "Batch 58000 training time: 3.11s loss: 1.2030\n",
      "Batch 60000 training time: 3.15s loss: 1.2030\n",
      "Batch 62000 training time: 3.11s loss: 1.2029\n",
      "Batch 64000 training time: 3.10s loss: 1.2031\n",
      "Batch 66000 training time: 3.11s loss: 1.2031\n",
      "Batch 68000 training time: 3.11s loss: 1.2027\n",
      "Batch 70000 training time: 3.14s loss: 1.2025\n",
      "Batch 72000 training time: 3.10s loss: 1.2025\n",
      "Batch 74000 training time: 3.12s loss: 1.2029\n",
      "Batch 76000 training time: 3.24s loss: 1.2029\n",
      "Batch 78000 training time: 3.11s loss: 1.2021\n",
      "Batch 80000 training time: 3.13s loss: 1.2032\n",
      "Training used time: 126.06s\n"
     ]
    }
   ],
   "source": [
    "trainer.train()"
   ]
  }
 ],
 "metadata": {
  "kernelspec": {
   "display_name": "Python 3",
   "language": "python",
   "name": "python3"
  },
  "language_info": {
   "codemirror_mode": {
    "name": "ipython",
    "version": 3
   },
   "file_extension": ".py",
   "mimetype": "text/x-python",
   "name": "python",
   "nbconvert_exporter": "python",
   "pygments_lexer": "ipython3",
   "version": "3.8.5"
  }
 },
 "nbformat": 4,
 "nbformat_minor": 4
}
