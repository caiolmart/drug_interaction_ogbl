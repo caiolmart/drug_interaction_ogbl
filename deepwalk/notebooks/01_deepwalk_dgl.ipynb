{
 "cells": [
  {
   "cell_type": "code",
   "execution_count": 1,
   "metadata": {},
   "outputs": [],
   "source": [
    "import os"
   ]
  },
  {
   "cell_type": "code",
   "execution_count": 2,
   "metadata": {},
   "outputs": [],
   "source": [
    "os.chdir('../..')"
   ]
  },
  {
   "cell_type": "code",
   "execution_count": 3,
   "metadata": {},
   "outputs": [
    {
     "name": "stderr",
     "output_type": "stream",
     "text": [
      "Using backend: pytorch\n"
     ]
    }
   ],
   "source": [
    "from ogb.linkproppred import DglLinkPropPredDataset\n",
    "import dgl\n",
    "import torch"
   ]
  },
  {
   "cell_type": "code",
   "execution_count": 4,
   "metadata": {},
   "outputs": [],
   "source": [
    "dataset = DglLinkPropPredDataset('ogbl-ddi', root='data/dataset_dgl')"
   ]
  },
  {
   "cell_type": "code",
   "execution_count": 5,
   "metadata": {},
   "outputs": [],
   "source": [
    "graph = dataset[0]"
   ]
  },
  {
   "cell_type": "code",
   "execution_count": 6,
   "metadata": {},
   "outputs": [
    {
     "data": {
      "text/plain": [
       "4267"
      ]
     },
     "execution_count": 6,
     "metadata": {},
     "output_type": "execute_result"
    }
   ],
   "source": [
    "graph.number_of_nodes()"
   ]
  },
  {
   "cell_type": "code",
   "execution_count": 7,
   "metadata": {},
   "outputs": [
    {
     "data": {
      "text/plain": [
       "18207289"
      ]
     },
     "execution_count": 7,
     "metadata": {},
     "output_type": "execute_result"
    }
   ],
   "source": [
    "4267 ** 2"
   ]
  },
  {
   "cell_type": "code",
   "execution_count": 8,
   "metadata": {},
   "outputs": [
    {
     "data": {
      "text/plain": [
       "2135822"
      ]
     },
     "execution_count": 8,
     "metadata": {},
     "output_type": "execute_result"
    }
   ],
   "source": [
    "graph.number_of_edges()"
   ]
  },
  {
   "cell_type": "code",
   "execution_count": 9,
   "metadata": {},
   "outputs": [
    {
     "data": {
      "text/plain": [
       "(tensor([4039, 2424, 4039,  ...,  338,  835, 3554]),\n",
       " tensor([2424, 4039,  225,  ...,  708, 3554,  835]))"
      ]
     },
     "execution_count": 9,
     "metadata": {},
     "output_type": "execute_result"
    }
   ],
   "source": [
    "graph.edges()"
   ]
  },
  {
   "cell_type": "code",
   "execution_count": 10,
   "metadata": {},
   "outputs": [
    {
     "data": {
      "text/plain": [
       "tensor(True)"
      ]
     },
     "execution_count": 10,
     "metadata": {},
     "output_type": "execute_result"
    }
   ],
   "source": [
    "graph.has_edges_between(graph.edges()[1], graph.edges()[0]).all()"
   ]
  },
  {
   "cell_type": "code",
   "execution_count": 11,
   "metadata": {},
   "outputs": [
    {
     "data": {
      "text/plain": [
       "{'train': {'edge': tensor([[4039, 2424],\n",
       "          [4039,  225],\n",
       "          [4039, 3901],\n",
       "          ...,\n",
       "          [ 647,  708],\n",
       "          [ 708,  338],\n",
       "          [ 835, 3554]])},\n",
       " 'valid': {'edge': tensor([[ 722,  548],\n",
       "          [ 874, 3436],\n",
       "          [ 838, 1587],\n",
       "          ...,\n",
       "          [3661, 3125],\n",
       "          [3272, 3330],\n",
       "          [1330,  776]]),\n",
       "  'edge_neg': tensor([[   0,   58],\n",
       "          [   0,   84],\n",
       "          [   0,   90],\n",
       "          ...,\n",
       "          [4162, 4180],\n",
       "          [4168, 4260],\n",
       "          [4180, 4221]])},\n",
       " 'test': {'edge': tensor([[2198, 1172],\n",
       "          [1205,  719],\n",
       "          [1818, 2866],\n",
       "          ...,\n",
       "          [ 326, 1109],\n",
       "          [ 911, 1250],\n",
       "          [4127, 2480]]),\n",
       "  'edge_neg': tensor([[   0,    2],\n",
       "          [   0,   16],\n",
       "          [   0,   42],\n",
       "          ...,\n",
       "          [4168, 4259],\n",
       "          [4208, 4245],\n",
       "          [4245, 4259]])}}"
      ]
     },
     "execution_count": 11,
     "metadata": {},
     "output_type": "execute_result"
    }
   ],
   "source": [
    "dataset.get_edge_split()"
   ]
  },
  {
   "cell_type": "code",
   "execution_count": 12,
   "metadata": {},
   "outputs": [
    {
     "data": {
      "text/plain": [
       "tensor([[4039, 2424],\n",
       "        [4039,  225],\n",
       "        [4039, 3901],\n",
       "        ...,\n",
       "        [ 647,  708],\n",
       "        [ 708,  338],\n",
       "        [ 835, 3554]])"
      ]
     },
     "execution_count": 12,
     "metadata": {},
     "output_type": "execute_result"
    }
   ],
   "source": [
    "dataset.get_edge_split()['train']['edge']"
   ]
  },
  {
   "cell_type": "code",
   "execution_count": 13,
   "metadata": {},
   "outputs": [],
   "source": [
    "train_ids = graph.edge_ids(dataset.get_edge_split()['train']['edge'][:, 0], dataset.get_edge_split()['train']['edge'][:, 1])"
   ]
  },
  {
   "cell_type": "code",
   "execution_count": 14,
   "metadata": {},
   "outputs": [
    {
     "data": {
      "text/plain": [
       "tensor([[4039, 2424],\n",
       "        [4039,  225],\n",
       "        [4039, 3901],\n",
       "        ...,\n",
       "        [ 647,  708],\n",
       "        [ 708,  338],\n",
       "        [ 835, 3554]])"
      ]
     },
     "execution_count": 14,
     "metadata": {},
     "output_type": "execute_result"
    }
   ],
   "source": [
    "dataset.get_edge_split()['train']['edge']"
   ]
  },
  {
   "cell_type": "code",
   "execution_count": 15,
   "metadata": {},
   "outputs": [
    {
     "data": {
      "text/plain": [
       "tensor([      0,       2,       4,  ..., 2135816, 2135818, 2135820])"
      ]
     },
     "execution_count": 15,
     "metadata": {},
     "output_type": "execute_result"
    }
   ],
   "source": [
    "train_ids"
   ]
  },
  {
   "cell_type": "code",
   "execution_count": 16,
   "metadata": {},
   "outputs": [
    {
     "data": {
      "text/plain": [
       "2"
      ]
     },
     "execution_count": 16,
     "metadata": {},
     "output_type": "execute_result"
    }
   ],
   "source": [
    "graph.edge_ids(4039, 225)"
   ]
  },
  {
   "cell_type": "code",
   "execution_count": 17,
   "metadata": {},
   "outputs": [
    {
     "data": {
      "text/plain": [
       "True"
      ]
     },
     "execution_count": 17,
     "metadata": {},
     "output_type": "execute_result"
    }
   ],
   "source": [
    "torch.cuda.is_available()"
   ]
  },
  {
   "cell_type": "code",
   "execution_count": 18,
   "metadata": {},
   "outputs": [],
   "source": [
    "device = 0"
   ]
  },
  {
   "cell_type": "code",
   "execution_count": 19,
   "metadata": {},
   "outputs": [],
   "source": [
    "dim = 16\n",
    "walk_length = 5\n",
    "window_size = 5\n",
    "batch_size = 1000\n",
    "only_cpu = True\n",
    "only_gpu = False\n",
    "mix = False\n",
    "neg_weight = 1.\n",
    "negative = 1\n",
    "lr = 0.01\n",
    "lap_norm = 0.01\n",
    "fast_neg = False\n",
    "print_loss = True\n",
    "norm = False\n",
    "use_context_weight = False\n",
    "async_update = False\n",
    "num_threads = 16\n",
    "gpus = [-1]\n",
    "count_params = False\n",
    "num_walks = 10000\n",
    "num_sampler_threads = 0\n",
    "print_interval = 1000\n",
    "save_in_txt = False\n",
    "save_in_pt = False\n",
    "output_emb_file = 'deepwalk/models/01_deep_embedding.npy'"
   ]
  },
  {
   "cell_type": "code",
   "execution_count": 20,
   "metadata": {},
   "outputs": [],
   "source": [
    "from deepwalk.src.deepwalk import DeepwalkTrainer"
   ]
  },
  {
   "cell_type": "code",
   "execution_count": 21,
   "metadata": {
    "scrolled": true
   },
   "outputs": [
    {
     "name": "stdout",
     "output_type": "stream",
     "text": [
      "42670000 seeds in 2.23s\n"
     ]
    }
   ],
   "source": [
    "trainer = DeepwalkTrainer(\n",
    "    graph=graph,\n",
    "    device=device,\n",
    "    dim=dim,\n",
    "    walk_length=walk_length,\n",
    "    window_size=window_size,\n",
    "    batch_size=batch_size,\n",
    "    only_cpu=only_cpu,\n",
    "    only_gpu=only_gpu,\n",
    "    mix=mix,\n",
    "    neg_weight=neg_weight,\n",
    "    negative=negative,\n",
    "    lr=lr,\n",
    "    lap_norm=lap_norm,\n",
    "    fast_neg=fast_neg,\n",
    "    print_loss=print_loss,\n",
    "    norm=norm,\n",
    "    use_context_weight=use_context_weight,\n",
    "    async_update=async_update,\n",
    "    num_threads=num_threads,\n",
    "    gpus=gpus,\n",
    "    count_params=count_params,\n",
    "    num_walks=num_walks,\n",
    "    num_sampler_threads=num_sampler_threads,\n",
    "    print_interval=print_interval,\n",
    "    save_in_txt=save_in_txt,\n",
    "    save_in_pt=save_in_pt,\n",
    "    output_emb_file=output_emb_file,\n",
    ")"
   ]
  },
  {
   "cell_type": "code",
   "execution_count": 22,
   "metadata": {},
   "outputs": [
    {
     "name": "stdout",
     "output_type": "stream",
     "text": [
      "Run in CPU process\n",
      "num batchs: 42670\n",
      "\n",
      "Batch 1000 training time: 18.39s loss: 1.3099\n",
      "Batch 2000 training time: 14.93s loss: 1.2680\n",
      "Batch 3000 training time: 15.03s loss: 1.2537\n",
      "Batch 4000 training time: 14.97s loss: 1.2454\n",
      "Batch 5000 training time: 14.95s loss: 1.2395\n",
      "Batch 6000 training time: 14.92s loss: 1.2350\n",
      "Batch 7000 training time: 14.94s loss: 1.2316\n",
      "Batch 8000 training time: 14.93s loss: 1.2283\n",
      "Batch 9000 training time: 15.01s loss: 1.2263\n",
      "Batch 10000 training time: 14.91s loss: 1.2247\n",
      "Batch 11000 training time: 15.03s loss: 1.2225\n",
      "Batch 12000 training time: 15.05s loss: 1.2205\n",
      "Batch 13000 training time: 15.01s loss: 1.2199\n",
      "Batch 14000 training time: 15.01s loss: 1.2185\n",
      "Batch 15000 training time: 14.93s loss: 1.2172\n",
      "Batch 16000 training time: 14.88s loss: 1.2163\n",
      "Batch 17000 training time: 14.89s loss: 1.2144\n",
      "Batch 18000 training time: 14.89s loss: 1.2144\n",
      "Batch 19000 training time: 14.89s loss: 1.2136\n",
      "Batch 20000 training time: 14.89s loss: 1.2122\n",
      "Batch 21000 training time: 14.89s loss: 1.2113\n",
      "Batch 22000 training time: 14.89s loss: 1.2104\n",
      "Batch 23000 training time: 14.90s loss: 1.2090\n",
      "Batch 24000 training time: 15.15s loss: 1.2089\n",
      "Batch 25000 training time: 14.90s loss: 1.2082\n",
      "Batch 26000 training time: 14.90s loss: 1.2076\n",
      "Batch 27000 training time: 14.91s loss: 1.2068\n",
      "Batch 28000 training time: 15.01s loss: 1.2061\n",
      "Batch 29000 training time: 14.88s loss: 1.2061\n",
      "Batch 30000 training time: 14.99s loss: 1.2054\n",
      "Batch 31000 training time: 16.09s loss: 1.2038\n",
      "Batch 32000 training time: 17.07s loss: 1.2035\n",
      "Batch 33000 training time: 16.71s loss: 1.2033\n",
      "Batch 34000 training time: 16.84s loss: 1.2029\n",
      "Batch 35000 training time: 17.17s loss: 1.2021\n",
      "Batch 36000 training time: 15.95s loss: 1.2021\n",
      "Batch 37000 training time: 14.86s loss: 1.2017\n",
      "Batch 38000 training time: 14.88s loss: 1.2011\n",
      "Batch 39000 training time: 14.89s loss: 1.2005\n",
      "Batch 40000 training time: 14.86s loss: 1.2004\n",
      "Batch 41000 training time: 14.90s loss: 1.2006\n",
      "Batch 42000 training time: 14.88s loss: 1.1993\n",
      "Training used time: 650.90s\n"
     ]
    }
   ],
   "source": [
    "trainer.train()"
   ]
  }
 ],
 "metadata": {
  "kernelspec": {
   "display_name": "Python 3",
   "language": "python",
   "name": "python3"
  },
  "language_info": {
   "codemirror_mode": {
    "name": "ipython",
    "version": 3
   },
   "file_extension": ".py",
   "mimetype": "text/x-python",
   "name": "python",
   "nbconvert_exporter": "python",
   "pygments_lexer": "ipython3",
   "version": "3.8.5"
  }
 },
 "nbformat": 4,
 "nbformat_minor": 4
}
